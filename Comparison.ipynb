{
 "cells": [
  {
   "cell_type": "code",
   "execution_count": 16,
   "metadata": {},
   "outputs": [],
   "source": [
    "import numpy as np\n",
    "import pandas as pd\n",
    "import tensorflow\n",
    "import keras\n",
    "from keras.datasets import fashion_mnist\n",
    "from keras.models import Sequential\n",
    "from keras.layers import Conv2D, MaxPooling2D, Flatten, Dense\n",
    "from sklearn.metrics import accuracy_score, confusion_matrix, classification_report\n",
    "from sklearn.tree import DecisionTreeClassifier\n",
    "from sklearn.ensemble import RandomForestClassifier\n",
    "from sklearn.naive_bayes import MultinomialNB\n",
    "from sklearn.svm import SVC\n",
    "from sklearn.model_selection import GridSearchCV"
   ]
  },
  {
   "cell_type": "code",
   "execution_count": 17,
   "metadata": {},
   "outputs": [],
   "source": [
    "(x_train, y_train), (x_test, y_test) = fashion_mnist.load_data()\n",
    "x_train = x_train / 255.0\n",
    "x_test = x_test / 255.0\n",
    "# copies made for Neural Network later on that does not need reshaping of the data\n",
    "x_test_cnn = x_test.copy()\n",
    "x_train_cnn = x_train.copy()"
   ]
  },
  {
   "cell_type": "markdown",
   "metadata": {},
   "source": [
    "Im going to compare a few different algorithms based on performance in classifying the Fashion_mnist dataset which contains 70000 depixelated (28x28) photos of Zalando's clothing articles separated into 10 classes.\n",
    "The algorithms im going to compare are:\n",
    "    <br>-Decision Tree Classifier\n",
    "    <br>    -Random Forest Classifier\n",
    "    <br>    -Naive Bayes\n",
    "    <br>    -Support Vector Machines\n",
    "    <br>    -Convolutional Neural Network\n",
    "<br>I will also try to optimize those models using GridSearch"
   ]
  },
  {
   "cell_type": "markdown",
   "metadata": {},
   "source": [
    "1. Decision Tree Classifier"
   ]
  },
  {
   "cell_type": "code",
   "execution_count": 18,
   "metadata": {},
   "outputs": [
    {
     "data": {
      "text/plain": [
       "{'max_depth': 10, 'min_samples_leaf': 1, 'min_samples_split': 2}"
      ]
     },
     "execution_count": 18,
     "metadata": {},
     "output_type": "execute_result"
    }
   ],
   "source": [
    "# we need to reshape our data since Decision Tree Classifier works in 2D and the data comes in 3D\n",
    "x_train = x_train.reshape((x_train.shape[0], -1))\n",
    "x_test = x_test.reshape((x_test.shape[0], -1))\n",
    "# for grid search im only gonna use the first 10% of the training data since it takes hours to compile on full set\n",
    "x_train_grid_search = x_train[:6000, :]\n",
    "y_train_grid_search = y_train[:6000]\n",
    "\n",
    "model = DecisionTreeClassifier()\n",
    "model.fit(x_train, y_train)\n",
    "y_pred = model.predict(x_test)\n",
    "cm_dtc = confusion_matrix(y_pred, y_test)\n",
    "acc_dtc = accuracy_score(y_pred, y_test)\n",
    "report_dtc = classification_report(y_pred, y_test)\n",
    "\n",
    "# Grid search optimization\n",
    "dtc_params = {\n",
    "    'max_depth': [1, 5, 10],\n",
    "    'min_samples_split': [2, 5, 10],\n",
    "    'min_samples_leaf': [1, 2, 4]\n",
    "}\n",
    "dtc_grid_search = GridSearchCV(DecisionTreeClassifier(), dtc_params, cv=5).fit(x_train_grid_search, y_train_grid_search)\n",
    "dtc_grid_search.best_params_"
   ]
  },
  {
   "cell_type": "code",
   "execution_count": 19,
   "metadata": {},
   "outputs": [],
   "source": [
    "model_tuned = DecisionTreeClassifier(max_depth = 10, min_samples_leaf = 1, min_samples_split = 2)\n",
    "model_tuned.fit(x_train, y_train)\n",
    "y_pred = model_tuned.predict(x_test)\n",
    "cm_dtc_tuned = confusion_matrix(y_pred, y_test)\n",
    "acc_dtc_tuned = accuracy_score(y_pred, y_test)\n",
    "report_dtc_tuned = classification_report(y_pred, y_test)"
   ]
  },
  {
   "cell_type": "code",
   "execution_count": 20,
   "metadata": {},
   "outputs": [
    {
     "data": {
      "text/plain": [
       "array([[733,   7,  23,  49,  15,   0, 134,   0,  12,   0],\n",
       "       [  7, 954,   3,  23,   4,   1,   7,   0,   1,   0],\n",
       "       [ 30,   6, 662,  20, 184,   0, 136,   0,  14,   0],\n",
       "       [ 39,  17,  18, 782,  58,   2,  39,   0,   7,   0],\n",
       "       [ 14,   7, 148,  60, 614,   1, 106,   0,  11,   0],\n",
       "       [  1,   0,   2,   0,   1, 886,   2,  41,  12,  27],\n",
       "       [160,   6, 132,  50, 119,   0, 556,   0,  20,   1],\n",
       "       [  2,   0,   1,   0,   0,  58,   2, 878,   6,  57],\n",
       "       [ 12,   2,   9,  15,   5,  22,  17,   5, 913,   4],\n",
       "       [  2,   1,   2,   1,   0,  30,   1,  76,   4, 911]], dtype=int64)"
      ]
     },
     "execution_count": 20,
     "metadata": {},
     "output_type": "execute_result"
    }
   ],
   "source": [
    "cm_dtc"
   ]
  },
  {
   "cell_type": "code",
   "execution_count": 21,
   "metadata": {},
   "outputs": [
    {
     "data": {
      "text/plain": [
       "array([[773,  11,  12,  33,   4,   1, 135,   0,   4,   2],\n",
       "       [  3, 925,   0,  10,   0,   3,   5,   0,   5,   0],\n",
       "       [ 27,   4, 665,  26, 126,   0, 163,   0,  16,   1],\n",
       "       [ 41,  41,   9, 814,  39,   1,  37,   0,  10,   0],\n",
       "       [ 12,   7, 242,  62, 733,   1, 140,   0,  20,   0],\n",
       "       [  0,   0,   0,   0,   0, 873,   4,  33,   6,  21],\n",
       "       [130,   9,  63,  49,  96,   2, 499,   0,  28,   1],\n",
       "       [  1,   0,   0,   0,   0,  65,   0, 924,   9,  65],\n",
       "       [  9,   2,   8,   5,   2,  19,  15,   4, 900,   3],\n",
       "       [  4,   1,   1,   1,   0,  35,   2,  39,   2, 907]], dtype=int64)"
      ]
     },
     "execution_count": 21,
     "metadata": {},
     "output_type": "execute_result"
    }
   ],
   "source": [
    "cm_dtc_tuned"
   ]
  },
  {
   "cell_type": "code",
   "execution_count": 22,
   "metadata": {},
   "outputs": [
    {
     "data": {
      "text/plain": [
       "0.7889"
      ]
     },
     "execution_count": 22,
     "metadata": {},
     "output_type": "execute_result"
    }
   ],
   "source": [
    "acc_dtc"
   ]
  },
  {
   "cell_type": "code",
   "execution_count": 23,
   "metadata": {},
   "outputs": [
    {
     "data": {
      "text/plain": [
       "0.8013"
      ]
     },
     "execution_count": 23,
     "metadata": {},
     "output_type": "execute_result"
    }
   ],
   "source": [
    "acc_dtc_tuned"
   ]
  },
  {
   "cell_type": "code",
   "execution_count": 24,
   "metadata": {},
   "outputs": [
    {
     "name": "stdout",
     "output_type": "stream",
     "text": [
      "              precision    recall  f1-score   support\n",
      "\n",
      "           0       0.73      0.75      0.74       973\n",
      "           1       0.95      0.95      0.95      1000\n",
      "           2       0.66      0.63      0.65      1052\n",
      "           3       0.78      0.81      0.80       962\n",
      "           4       0.61      0.64      0.63       961\n",
      "           5       0.89      0.91      0.90       972\n",
      "           6       0.56      0.53      0.54      1044\n",
      "           7       0.88      0.87      0.88      1004\n",
      "           8       0.91      0.91      0.91      1004\n",
      "           9       0.91      0.89      0.90      1028\n",
      "\n",
      "    accuracy                           0.79     10000\n",
      "   macro avg       0.79      0.79      0.79     10000\n",
      "weighted avg       0.79      0.79      0.79     10000\n",
      "\n"
     ]
    }
   ],
   "source": [
    "print(report_dtc)"
   ]
  },
  {
   "cell_type": "code",
   "execution_count": 25,
   "metadata": {},
   "outputs": [
    {
     "name": "stdout",
     "output_type": "stream",
     "text": [
      "              precision    recall  f1-score   support\n",
      "\n",
      "           0       0.77      0.79      0.78       975\n",
      "           1       0.93      0.97      0.95       951\n",
      "           2       0.67      0.65      0.66      1028\n",
      "           3       0.81      0.82      0.82       992\n",
      "           4       0.73      0.60      0.66      1217\n",
      "           5       0.87      0.93      0.90       937\n",
      "           6       0.50      0.57      0.53       877\n",
      "           7       0.92      0.87      0.90      1064\n",
      "           8       0.90      0.93      0.92       967\n",
      "           9       0.91      0.91      0.91       992\n",
      "\n",
      "    accuracy                           0.80     10000\n",
      "   macro avg       0.80      0.80      0.80     10000\n",
      "weighted avg       0.80      0.80      0.80     10000\n",
      "\n"
     ]
    }
   ],
   "source": [
    "print(report_dtc_tuned)"
   ]
  },
  {
   "cell_type": "markdown",
   "metadata": {},
   "source": [
    "2. Random Forest Classifier"
   ]
  },
  {
   "cell_type": "code",
   "execution_count": 27,
   "metadata": {},
   "outputs": [
    {
     "data": {
      "text/plain": [
       "{'max_depth': 20,\n",
       " 'min_samples_leaf': 1,\n",
       " 'min_samples_split': 2,\n",
       " 'n_estimators': 300}"
      ]
     },
     "execution_count": 27,
     "metadata": {},
     "output_type": "execute_result"
    }
   ],
   "source": [
    "model = RandomForestClassifier()\n",
    "model.fit(x_train, y_train)\n",
    "y_pred = model.predict(x_test)\n",
    "cm_rfc = confusion_matrix(y_pred, y_test)\n",
    "acc_rfc = accuracy_score(y_pred, y_test)\n",
    "report_rfc = classification_report(y_pred, y_test)\n",
    "\n",
    "# Grid search optimization\n",
    "rfc_params = {\n",
    "    'n_estimators': [100, 200, 300],\n",
    "    'max_depth': [1, 10, 20],\n",
    "    'min_samples_split': [2, 5, 10],\n",
    "    'min_samples_leaf': [1, 2, 4]\n",
    "}\n",
    "rfc_grid_search = GridSearchCV(RandomForestClassifier(), rfc_params, cv=5).fit(x_train_grid_search, y_train_grid_search)\n",
    "rfc_grid_search.best_params_"
   ]
  },
  {
   "cell_type": "code",
   "execution_count": 46,
   "metadata": {},
   "outputs": [],
   "source": [
    "model_tuned = RandomForestClassifier(max_depth = 10, min_samples_leaf = 1, min_samples_split = 2, n_estimators = 300)\n",
    "model_tuned.fit(x_train, y_train)\n",
    "y_pred = model_tuned.predict(x_test)\n",
    "cm_rfc_tuned = confusion_matrix(y_pred, y_test)\n",
    "acc_rfc_tuned = accuracy_score(y_pred, y_test)\n",
    "report_rfc_tuned = classification_report(y_pred, y_test)"
   ]
  },
  {
   "cell_type": "code",
   "execution_count": 28,
   "metadata": {},
   "outputs": [
    {
     "data": {
      "text/plain": [
       "array([[862,   2,  13,  18,   1,   0, 154,   0,   0,   0],\n",
       "       [  0, 963,   0,   2,   0,   0,   2,   0,   2,   0],\n",
       "       [ 11,   1, 808,  12,  94,   0, 121,   0,   3,   0],\n",
       "       [ 29,  19,  10, 905,  39,   1,  25,   0,   4,   0],\n",
       "       [  3,   4, 110,  28, 812,   0,  88,   0,   5,   0],\n",
       "       [  1,   0,   0,   0,   0, 958,   0,  14,   2,   8],\n",
       "       [ 82,   9,  56,  33,  52,   0, 594,   0,   8,   0],\n",
       "       [  0,   0,   0,   0,   0,  30,   0, 951,   4,  43],\n",
       "       [ 12,   2,   3,   2,   2,   2,  16,   0, 971,   3],\n",
       "       [  0,   0,   0,   0,   0,   9,   0,  35,   1, 946]], dtype=int64)"
      ]
     },
     "execution_count": 28,
     "metadata": {},
     "output_type": "execute_result"
    }
   ],
   "source": [
    "cm_rfc"
   ]
  },
  {
   "cell_type": "code",
   "execution_count": 47,
   "metadata": {},
   "outputs": [
    {
     "data": {
      "text/plain": [
       "array([[826,   4,   9,  21,   0,   0, 182,   0,   0,   0],\n",
       "       [  0, 937,   0,   1,   0,   0,   1,   0,   1,   0],\n",
       "       [ 20,  10, 731,  17, 102,   0, 144,   0,  13,   0],\n",
       "       [ 56,  37,  10, 896,  45,   1,  40,   0,   3,   0],\n",
       "       [  6,   3, 194,  37, 800,   0, 121,   0,   5,   0],\n",
       "       [  1,   0,   0,   0,   0, 933,   0,  11,   2,   7],\n",
       "       [ 76,   8,  50,  26,  50,   0, 491,   0,   5,   1],\n",
       "       [  0,   0,   0,   0,   0,  47,   0, 920,   4,  51],\n",
       "       [ 15,   1,   6,   2,   3,   3,  21,   0, 966,   2],\n",
       "       [  0,   0,   0,   0,   0,  16,   0,  69,   1, 939]], dtype=int64)"
      ]
     },
     "execution_count": 47,
     "metadata": {},
     "output_type": "execute_result"
    }
   ],
   "source": [
    "cm_rfc_tuned"
   ]
  },
  {
   "cell_type": "code",
   "execution_count": 29,
   "metadata": {},
   "outputs": [
    {
     "data": {
      "text/plain": [
       "0.877"
      ]
     },
     "execution_count": 29,
     "metadata": {},
     "output_type": "execute_result"
    }
   ],
   "source": [
    "acc_rfc"
   ]
  },
  {
   "cell_type": "code",
   "execution_count": 48,
   "metadata": {},
   "outputs": [
    {
     "data": {
      "text/plain": [
       "0.8439"
      ]
     },
     "execution_count": 48,
     "metadata": {},
     "output_type": "execute_result"
    }
   ],
   "source": [
    "acc_rfc_tuned"
   ]
  },
  {
   "cell_type": "code",
   "execution_count": 30,
   "metadata": {},
   "outputs": [
    {
     "name": "stdout",
     "output_type": "stream",
     "text": [
      "              precision    recall  f1-score   support\n",
      "\n",
      "           0       0.86      0.82      0.84      1050\n",
      "           1       0.96      0.99      0.98       969\n",
      "           2       0.81      0.77      0.79      1050\n",
      "           3       0.91      0.88      0.89      1032\n",
      "           4       0.81      0.77      0.79      1050\n",
      "           5       0.96      0.97      0.97       983\n",
      "           6       0.59      0.71      0.65       834\n",
      "           7       0.95      0.93      0.94      1028\n",
      "           8       0.97      0.96      0.96      1013\n",
      "           9       0.95      0.95      0.95       991\n",
      "\n",
      "    accuracy                           0.88     10000\n",
      "   macro avg       0.88      0.88      0.88     10000\n",
      "weighted avg       0.88      0.88      0.88     10000\n",
      "\n"
     ]
    }
   ],
   "source": [
    "print(report_rfc)"
   ]
  },
  {
   "cell_type": "code",
   "execution_count": 49,
   "metadata": {},
   "outputs": [
    {
     "name": "stdout",
     "output_type": "stream",
     "text": [
      "              precision    recall  f1-score   support\n",
      "\n",
      "           0       0.83      0.79      0.81      1042\n",
      "           1       0.94      1.00      0.97       940\n",
      "           2       0.73      0.70      0.72      1037\n",
      "           3       0.90      0.82      0.86      1088\n",
      "           4       0.80      0.69      0.74      1166\n",
      "           5       0.93      0.98      0.95       954\n",
      "           6       0.49      0.69      0.58       707\n",
      "           7       0.92      0.90      0.91      1022\n",
      "           8       0.97      0.95      0.96      1019\n",
      "           9       0.94      0.92      0.93      1025\n",
      "\n",
      "    accuracy                           0.84     10000\n",
      "   macro avg       0.84      0.84      0.84     10000\n",
      "weighted avg       0.85      0.84      0.85     10000\n",
      "\n"
     ]
    }
   ],
   "source": [
    "print(report_rfc_tuned)"
   ]
  },
  {
   "cell_type": "markdown",
   "metadata": {},
   "source": [
    "3. Naive Bayes"
   ]
  },
  {
   "cell_type": "code",
   "execution_count": 31,
   "metadata": {},
   "outputs": [
    {
     "data": {
      "text/plain": [
       "{'alpha': 0.5}"
      ]
     },
     "execution_count": 31,
     "metadata": {},
     "output_type": "execute_result"
    }
   ],
   "source": [
    "model = MultinomialNB()\n",
    "model.fit(x_train, y_train)\n",
    "y_pred = model.predict(x_test)\n",
    "cm_nb = confusion_matrix(y_pred, y_test)\n",
    "acc_nb = accuracy_score(y_pred, y_test)\n",
    "report_nb = classification_report(y_pred, y_test)\n",
    "\n",
    "# Grid search optimization\n",
    "nb_params = {'alpha': [0.1, 0.5, 1.0, 1.5, 2.0]}\n",
    "nb_grid_search = GridSearchCV(MultinomialNB(), nb_params, cv=5).fit(x_train_grid_search, y_train_grid_search)\n",
    "nb_grid_search.best_params_"
   ]
  },
  {
   "cell_type": "code",
   "execution_count": 50,
   "metadata": {},
   "outputs": [],
   "source": [
    "model_tuned = MultinomialNB(alpha=0.5)\n",
    "model_tuned.fit(x_train, y_train)\n",
    "y_pred = model_tuned.predict(x_test)\n",
    "cm_nb_tuned = confusion_matrix(y_pred, y_test)\n",
    "acc_nb_tuned = accuracy_score(y_pred, y_test)\n",
    "report_nb_tuned = classification_report(y_pred, y_test)"
   ]
  },
  {
   "cell_type": "code",
   "execution_count": 32,
   "metadata": {},
   "outputs": [
    {
     "data": {
      "text/plain": [
       "array([[776,  17,   8,  26,   0,   1, 230,   0,   7,   0],\n",
       "       [  1, 872,   0,   9,   1,   0,   1,   0,   0,   0],\n",
       "       [  5,  12, 569,   1, 225,   0, 138,   0,   3,   1],\n",
       "       [112,  84,  13, 875, 112,   0,  85,   0,  49,   1],\n",
       "       [  6,   8, 300,  25, 605,   0, 335,   0,  83,   0],\n",
       "       [  0,   0,   0,   0,   0, 137,   0,  25,   3,  44],\n",
       "       [ 80,   5,  85,  61,  48,   8, 161,   0,  44,  12],\n",
       "       [  0,   0,   0,   0,   0, 504,   0, 920,  12, 103],\n",
       "       [ 20,   2,  25,   3,   9,   6,  50,   0, 799,   1],\n",
       "       [  0,   0,   0,   0,   0, 344,   0,  55,   0, 838]], dtype=int64)"
      ]
     },
     "execution_count": 32,
     "metadata": {},
     "output_type": "execute_result"
    }
   ],
   "source": [
    "cm_nb"
   ]
  },
  {
   "cell_type": "code",
   "execution_count": 51,
   "metadata": {},
   "outputs": [
    {
     "data": {
      "text/plain": [
       "array([[776,  17,   8,  27,   0,   1, 230,   0,   7,   0],\n",
       "       [  1, 872,   0,   9,   1,   0,   1,   0,   0,   0],\n",
       "       [  5,  12, 569,   1, 227,   0, 139,   0,   3,   1],\n",
       "       [112,  84,  13, 874, 112,   0,  85,   0,  49,   1],\n",
       "       [  6,   8, 300,  25, 602,   0, 332,   0,  83,   0],\n",
       "       [  0,   0,   0,   0,   0, 138,   0,  25,   3,  44],\n",
       "       [ 80,   5,  85,  61,  49,   8, 163,   0,  43,  12],\n",
       "       [  0,   0,   0,   0,   0, 503,   0, 920,  10, 103],\n",
       "       [ 20,   2,  25,   3,   9,   7,  50,   0, 802,   1],\n",
       "       [  0,   0,   0,   0,   0, 343,   0,  55,   0, 838]], dtype=int64)"
      ]
     },
     "execution_count": 51,
     "metadata": {},
     "output_type": "execute_result"
    }
   ],
   "source": [
    "cm_nb_tuned"
   ]
  },
  {
   "cell_type": "code",
   "execution_count": 33,
   "metadata": {},
   "outputs": [
    {
     "data": {
      "text/plain": [
       "0.6552"
      ]
     },
     "execution_count": 33,
     "metadata": {},
     "output_type": "execute_result"
    }
   ],
   "source": [
    "acc_nb"
   ]
  },
  {
   "cell_type": "code",
   "execution_count": 52,
   "metadata": {},
   "outputs": [
    {
     "data": {
      "text/plain": [
       "0.6554"
      ]
     },
     "execution_count": 52,
     "metadata": {},
     "output_type": "execute_result"
    }
   ],
   "source": [
    "acc_nb_tuned"
   ]
  },
  {
   "cell_type": "code",
   "execution_count": 34,
   "metadata": {},
   "outputs": [
    {
     "name": "stdout",
     "output_type": "stream",
     "text": [
      "              precision    recall  f1-score   support\n",
      "\n",
      "           0       0.78      0.73      0.75      1065\n",
      "           1       0.87      0.99      0.93       884\n",
      "           2       0.57      0.60      0.58       954\n",
      "           3       0.88      0.66      0.75      1331\n",
      "           4       0.60      0.44      0.51      1362\n",
      "           5       0.14      0.66      0.23       209\n",
      "           6       0.16      0.32      0.21       504\n",
      "           7       0.92      0.60      0.72      1539\n",
      "           8       0.80      0.87      0.83       915\n",
      "           9       0.84      0.68      0.75      1237\n",
      "\n",
      "    accuracy                           0.66     10000\n",
      "   macro avg       0.66      0.65      0.63     10000\n",
      "weighted avg       0.74      0.66      0.68     10000\n",
      "\n"
     ]
    }
   ],
   "source": [
    "print(report_nb)"
   ]
  },
  {
   "cell_type": "code",
   "execution_count": null,
   "metadata": {},
   "outputs": [],
   "source": [
    "print(report_nb_tuned)"
   ]
  },
  {
   "cell_type": "markdown",
   "metadata": {},
   "source": [
    "4. Support Vector Machine"
   ]
  },
  {
   "cell_type": "code",
   "execution_count": 35,
   "metadata": {},
   "outputs": [
    {
     "data": {
      "text/plain": [
       "{'C': 0.1, 'kernel': 'linear'}"
      ]
     },
     "execution_count": 35,
     "metadata": {},
     "output_type": "execute_result"
    }
   ],
   "source": [
    "model = SVC()\n",
    "model.fit(x_train, y_train)\n",
    "y_pred = model.predict(x_test)\n",
    "cm_svm = confusion_matrix(y_pred, y_test)\n",
    "acc_svm = accuracy_score(y_pred, y_test)\n",
    "report_svm = classification_report(y_pred, y_test)\n",
    "\n",
    "# Grid search optimization\n",
    "svm_params = {\n",
    "    'C': [0.1, 1, 2],\n",
    "    'kernel': ['linear', 'poly', 'sigmoid']\n",
    "}\n",
    "svm_grid_search = GridSearchCV(SVC(), svm_params, cv=5).fit(x_train_grid_search, y_train_grid_search)\n",
    "svm_grid_search.best_params_"
   ]
  },
  {
   "cell_type": "code",
   "execution_count": 55,
   "metadata": {},
   "outputs": [],
   "source": [
    "model_tuned = SVC(C=0.1, kernel='linear')\n",
    "model_tuned.fit(x_train, y_train)\n",
    "y_pred = model_tuned.predict(x_test)\n",
    "cm_svm_tuned = confusion_matrix(y_pred, y_test)\n",
    "acc_svm_tuned = accuracy_score(y_pred, y_test)\n",
    "report_svm_tuned = classification_report(y_pred, y_test)"
   ]
  },
  {
   "cell_type": "code",
   "execution_count": 36,
   "metadata": {},
   "outputs": [
    {
     "data": {
      "text/plain": [
       "array([[857,   4,  11,  27,   1,   0, 135,   0,   3,   0],\n",
       "       [  0, 962,   2,   3,   1,   0,   1,   0,   1,   0],\n",
       "       [ 16,   2, 816,  11,  87,   0, 104,   0,   1,   0],\n",
       "       [ 28,  25,  16, 890,  32,   1,  27,   0,   5,   0],\n",
       "       [  3,   3,  88,  33, 815,   0,  68,   0,   2,   0],\n",
       "       [  2,   0,   0,   0,   0, 951,   0,  21,   2,  11],\n",
       "       [ 85,   4,  65,  32,  61,   0, 654,   0,   4,   1],\n",
       "       [  0,   0,   0,   0,   0,  33,   0, 955,   5,  37],\n",
       "       [  9,   0,   2,   4,   3,   1,  11,   0, 977,   0],\n",
       "       [  0,   0,   0,   0,   0,  14,   0,  24,   0, 951]], dtype=int64)"
      ]
     },
     "execution_count": 36,
     "metadata": {},
     "output_type": "execute_result"
    }
   ],
   "source": [
    "cm_svm"
   ]
  },
  {
   "cell_type": "code",
   "execution_count": 56,
   "metadata": {},
   "outputs": [
    {
     "data": {
      "text/plain": [
       "array([[828,   6,  20,  37,   0,   0, 161,   0,   6,   0],\n",
       "       [  3, 959,   4,  10,   2,   0,   1,   0,   1,   0],\n",
       "       [ 10,   3, 770,  16, 110,   0, 116,   0,   6,   0],\n",
       "       [ 45,  25,  10, 873,  31,   1,  37,   0,   9,   0],\n",
       "       [  2,   4, 108,  26, 779,   0,  92,   0,   2,   0],\n",
       "       [  1,   0,   0,   0,   0, 937,   0,  29,   3,  16],\n",
       "       [101,   2,  83,  35,  74,   0, 571,   0,  17,   0],\n",
       "       [  0,   0,   0,   0,   0,  45,   0, 945,   4,  36],\n",
       "       [ 10,   1,   5,   3,   4,   2,  22,   0, 952,   1],\n",
       "       [  0,   0,   0,   0,   0,  15,   0,  26,   0, 947]], dtype=int64)"
      ]
     },
     "execution_count": 56,
     "metadata": {},
     "output_type": "execute_result"
    }
   ],
   "source": [
    "cm_svm_tuned"
   ]
  },
  {
   "cell_type": "code",
   "execution_count": 37,
   "metadata": {},
   "outputs": [
    {
     "data": {
      "text/plain": [
       "0.8828"
      ]
     },
     "execution_count": 37,
     "metadata": {},
     "output_type": "execute_result"
    }
   ],
   "source": [
    "acc_svm"
   ]
  },
  {
   "cell_type": "code",
   "execution_count": 57,
   "metadata": {},
   "outputs": [
    {
     "data": {
      "text/plain": [
       "0.8561"
      ]
     },
     "execution_count": 57,
     "metadata": {},
     "output_type": "execute_result"
    }
   ],
   "source": [
    "acc_svm_tuned"
   ]
  },
  {
   "cell_type": "code",
   "execution_count": 38,
   "metadata": {},
   "outputs": [
    {
     "name": "stdout",
     "output_type": "stream",
     "text": [
      "              precision    recall  f1-score   support\n",
      "\n",
      "           0       0.86      0.83      0.84      1038\n",
      "           1       0.96      0.99      0.98       970\n",
      "           2       0.82      0.79      0.80      1037\n",
      "           3       0.89      0.87      0.88      1024\n",
      "           4       0.81      0.81      0.81      1012\n",
      "           5       0.95      0.96      0.96       987\n",
      "           6       0.65      0.72      0.69       906\n",
      "           7       0.95      0.93      0.94      1030\n",
      "           8       0.98      0.97      0.97      1007\n",
      "           9       0.95      0.96      0.96       989\n",
      "\n",
      "    accuracy                           0.88     10000\n",
      "   macro avg       0.88      0.88      0.88     10000\n",
      "weighted avg       0.88      0.88      0.88     10000\n",
      "\n"
     ]
    }
   ],
   "source": [
    "print(report_svm)"
   ]
  },
  {
   "cell_type": "code",
   "execution_count": null,
   "metadata": {},
   "outputs": [],
   "source": [
    "print(report_svm_tuned)"
   ]
  },
  {
   "cell_type": "markdown",
   "metadata": {},
   "source": [
    "5. Convolutional Neural Network"
   ]
  },
  {
   "cell_type": "code",
   "execution_count": 39,
   "metadata": {},
   "outputs": [
    {
     "name": "stderr",
     "output_type": "stream",
     "text": [
      "c:\\Users\\Szymon\\AppData\\Local\\Programs\\Python\\Python310\\lib\\site-packages\\keras\\src\\layers\\convolutional\\base_conv.py:107: UserWarning: Do not pass an `input_shape`/`input_dim` argument to a layer. When using Sequential models, prefer using an `Input(shape)` object as the first layer in the model instead.\n",
      "  super().__init__(activity_regularizer=activity_regularizer, **kwargs)\n"
     ]
    },
    {
     "name": "stdout",
     "output_type": "stream",
     "text": [
      "Epoch 1/10\n",
      "\u001b[1m1875/1875\u001b[0m \u001b[32m━━━━━━━━━━━━━━━━━━━━\u001b[0m\u001b[37m\u001b[0m \u001b[1m33s\u001b[0m 17ms/step - accuracy: 0.7721 - loss: 0.6227 - val_accuracy: 0.8829 - val_loss: 0.3254\n",
      "Epoch 2/10\n",
      "\u001b[1m1875/1875\u001b[0m \u001b[32m━━━━━━━━━━━━━━━━━━━━\u001b[0m\u001b[37m\u001b[0m \u001b[1m31s\u001b[0m 17ms/step - accuracy: 0.8940 - loss: 0.2878 - val_accuracy: 0.9000 - val_loss: 0.2783\n",
      "Epoch 3/10\n",
      "\u001b[1m1875/1875\u001b[0m \u001b[32m━━━━━━━━━━━━━━━━━━━━\u001b[0m\u001b[37m\u001b[0m \u001b[1m31s\u001b[0m 16ms/step - accuracy: 0.9132 - loss: 0.2348 - val_accuracy: 0.9023 - val_loss: 0.2723\n",
      "Epoch 4/10\n",
      "\u001b[1m1875/1875\u001b[0m \u001b[32m━━━━━━━━━━━━━━━━━━━━\u001b[0m\u001b[37m\u001b[0m \u001b[1m30s\u001b[0m 16ms/step - accuracy: 0.9273 - loss: 0.1997 - val_accuracy: 0.9060 - val_loss: 0.2645\n",
      "Epoch 5/10\n",
      "\u001b[1m1875/1875\u001b[0m \u001b[32m━━━━━━━━━━━━━━━━━━━━\u001b[0m\u001b[37m\u001b[0m \u001b[1m31s\u001b[0m 17ms/step - accuracy: 0.9377 - loss: 0.1672 - val_accuracy: 0.9080 - val_loss: 0.2445\n",
      "Epoch 6/10\n",
      "\u001b[1m1875/1875\u001b[0m \u001b[32m━━━━━━━━━━━━━━━━━━━━\u001b[0m\u001b[37m\u001b[0m \u001b[1m31s\u001b[0m 16ms/step - accuracy: 0.9447 - loss: 0.1462 - val_accuracy: 0.9225 - val_loss: 0.2279\n",
      "Epoch 7/10\n",
      "\u001b[1m1875/1875\u001b[0m \u001b[32m━━━━━━━━━━━━━━━━━━━━\u001b[0m\u001b[37m\u001b[0m \u001b[1m31s\u001b[0m 16ms/step - accuracy: 0.9535 - loss: 0.1278 - val_accuracy: 0.9198 - val_loss: 0.2308\n",
      "Epoch 8/10\n",
      "\u001b[1m1875/1875\u001b[0m \u001b[32m━━━━━━━━━━━━━━━━━━━━\u001b[0m\u001b[37m\u001b[0m \u001b[1m31s\u001b[0m 16ms/step - accuracy: 0.9586 - loss: 0.1118 - val_accuracy: 0.9211 - val_loss: 0.2461\n",
      "Epoch 9/10\n",
      "\u001b[1m1875/1875\u001b[0m \u001b[32m━━━━━━━━━━━━━━━━━━━━\u001b[0m\u001b[37m\u001b[0m \u001b[1m31s\u001b[0m 16ms/step - accuracy: 0.9639 - loss: 0.0978 - val_accuracy: 0.9218 - val_loss: 0.2652\n",
      "Epoch 10/10\n",
      "\u001b[1m1875/1875\u001b[0m \u001b[32m━━━━━━━━━━━━━━━━━━━━\u001b[0m\u001b[37m\u001b[0m \u001b[1m30s\u001b[0m 16ms/step - accuracy: 0.9679 - loss: 0.0868 - val_accuracy: 0.9163 - val_loss: 0.2972\n",
      "\u001b[1m313/313\u001b[0m \u001b[32m━━━━━━━━━━━━━━━━━━━━\u001b[0m\u001b[37m\u001b[0m \u001b[1m2s\u001b[0m 6ms/step\n"
     ]
    }
   ],
   "source": [
    "\n",
    "\n",
    "model = Sequential([\n",
    " Conv2D(32, (3, 3), activation='relu', input_shape=(28, 28, 1)),\n",
    " Conv2D(64, (3, 3), activation='relu'),\n",
    " MaxPooling2D((2, 2)),\n",
    " Conv2D(64, (3, 3), activation='relu'),\n",
    " MaxPooling2D((2, 2)),\n",
    " Flatten(),\n",
    " Dense(64, activation='relu'),\n",
    " Dense(10, activation='softmax')\n",
    "])\n",
    "\n",
    "model.compile(optimizer='adam', loss='sparse_categorical_crossentropy', metrics=['accuracy'])\n",
    "\n",
    "history = model.fit(x_train_cnn, y_train, epochs=10, validation_data=(x_test_cnn, y_test))\n",
    "y_pred = np.argmax(model.predict(x_test_cnn), axis=-1)\n",
    "cm_cnn = confusion_matrix(y_pred, y_test)\n",
    "acc_cnn= accuracy_score(y_pred, y_test)\n",
    "report_cnn = classification_report(y_pred, y_test)"
   ]
  },
  {
   "cell_type": "code",
   "execution_count": 40,
   "metadata": {},
   "outputs": [
    {
     "data": {
      "text/plain": [
       "array([[846,   1,  11,  13,   2,   0,  82,   0,   3,   1],\n",
       "       [  0, 987,   0,   4,   0,   0,   0,   0,   1,   0],\n",
       "       [ 15,   0, 875,   9,  53,   0,  43,   0,   0,   0],\n",
       "       [ 10,   7,   7, 904,  22,   0,  17,   0,   5,   0],\n",
       "       [  3,   0,  41,  22, 840,   0,  36,   0,   2,   0],\n",
       "       [  1,   0,   0,   0,   0, 980,   0,   3,   1,   4],\n",
       "       [116,   2,  64,  44,  82,   0, 815,   0,   1,   0],\n",
       "       [  0,   0,   0,   0,   0,  12,   0, 956,   2,  19],\n",
       "       [  9,   3,   2,   4,   1,   0,   7,   0, 984,   0],\n",
       "       [  0,   0,   0,   0,   0,   8,   0,  41,   1, 976]], dtype=int64)"
      ]
     },
     "execution_count": 40,
     "metadata": {},
     "output_type": "execute_result"
    }
   ],
   "source": [
    "cm_cnn"
   ]
  },
  {
   "cell_type": "code",
   "execution_count": 41,
   "metadata": {},
   "outputs": [
    {
     "data": {
      "text/plain": [
       "0.9163"
      ]
     },
     "execution_count": 41,
     "metadata": {},
     "output_type": "execute_result"
    }
   ],
   "source": [
    "acc_cnn"
   ]
  },
  {
   "cell_type": "code",
   "execution_count": 42,
   "metadata": {},
   "outputs": [
    {
     "name": "stdout",
     "output_type": "stream",
     "text": [
      "              precision    recall  f1-score   support\n",
      "\n",
      "           0       0.85      0.88      0.86       959\n",
      "           1       0.99      0.99      0.99       992\n",
      "           2       0.88      0.88      0.88       995\n",
      "           3       0.90      0.93      0.92       972\n",
      "           4       0.84      0.89      0.86       944\n",
      "           5       0.98      0.99      0.99       989\n",
      "           6       0.81      0.73      0.77      1124\n",
      "           7       0.96      0.97      0.96       989\n",
      "           8       0.98      0.97      0.98      1010\n",
      "           9       0.98      0.95      0.96      1026\n",
      "\n",
      "    accuracy                           0.92     10000\n",
      "   macro avg       0.92      0.92      0.92     10000\n",
      "weighted avg       0.92      0.92      0.92     10000\n",
      "\n"
     ]
    }
   ],
   "source": [
    "print(report_cnn)"
   ]
  },
  {
   "cell_type": "code",
   "execution_count": 43,
   "metadata": {},
   "outputs": [
    {
     "name": "stdout",
     "output_type": "stream",
     "text": [
      "0.9163 \n",
      " 0.7889 \n",
      " 0.6552 \n",
      " 0.8828 \n",
      " 0.877\n"
     ]
    }
   ],
   "source": [
    "print(acc_cnn, '\\n', acc_dtc, '\\n', acc_nb, '\\n', acc_svm, '\\n', acc_rfc)"
   ]
  }
 ],
 "metadata": {
  "kernelspec": {
   "display_name": "Python 3",
   "language": "python",
   "name": "python3"
  },
  "language_info": {
   "codemirror_mode": {
    "name": "ipython",
    "version": 3
   },
   "file_extension": ".py",
   "mimetype": "text/x-python",
   "name": "python",
   "nbconvert_exporter": "python",
   "pygments_lexer": "ipython3",
   "version": "3.10.7"
  }
 },
 "nbformat": 4,
 "nbformat_minor": 2
}
