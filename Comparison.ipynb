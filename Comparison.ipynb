{
 "cells": [
  {
   "cell_type": "markdown",
   "metadata": {},
   "source": [
    "Im going to compare a few different algorithms based on performance in classifying the Fashion_mnist dataset which contains 70000 depixelated (28x28) photos of Zalando's clothing articles separated into 10 classes.\n",
    "The algorithms im going to compare are:\n",
    "    <br>-Decision Tree Classifier\n",
    "    <br>    -Random Forest Classifier\n",
    "    <br>    -Naive Bayes\n",
    "    <br>    -Support Vector Machines\n",
    "    <br>    -Convolutional Neural Network\n",
    "<br>I will also try to optimize those models using GridSearch"
   ]
  },
  {
   "cell_type": "code",
   "execution_count": 104,
   "metadata": {},
   "outputs": [],
   "source": [
    "import pandas as pd\n",
    "import tensorflow\n",
    "import keras\n",
    "import matplotlib.pyplot as plt\n",
    "from sklearn.metrics import accuracy_score, confusion_matrix, classification_report\n",
    "from sklearn.model_selection import GridSearchCV"
   ]
  },
  {
   "cell_type": "code",
   "execution_count": 11,
   "metadata": {},
   "outputs": [],
   "source": [
    "from keras.datasets import fashion_mnist\n",
    "\n",
    "(x_train, y_train), (x_test, y_test) = fashion_mnist.load_data()\n",
    "x_train = x_train / 255.0\n",
    "x_test = x_test / 255.0\n",
    "# copies made for Neural Network later on that does not need reshaping of the data\n",
    "x_test_cnn = x_test.copy()\n",
    "x_train_cnn = x_train.copy()\n",
    "# we need to reshape our data since some classifiers work in 2D and the data comes in 3D\n",
    "x_train = x_train.reshape((x_train.shape[0], -1))\n",
    "x_test = x_test.reshape((x_test.shape[0], -1))\n",
    "# for grid search im only gonna use the first 10% of the training data since it takes days to compile on full set\n",
    "x_train_grid_search = x_train[:6000, :]\n",
    "y_train_grid_search = y_train[:6000]\n"
   ]
  },
  {
   "cell_type": "markdown",
   "metadata": {},
   "source": [
    "1. Decision Tree Classifier"
   ]
  },
  {
   "cell_type": "code",
   "execution_count": 12,
   "metadata": {},
   "outputs": [
    {
     "data": {
      "text/plain": [
       "{'max_depth': 10, 'min_samples_leaf': 2, 'min_samples_split': 5}"
      ]
     },
     "execution_count": 12,
     "metadata": {},
     "output_type": "execute_result"
    }
   ],
   "source": [
    "from sklearn.tree import DecisionTreeClassifier\n",
    "\n",
    "\n",
    "model = DecisionTreeClassifier()\n",
    "model.fit(x_train, y_train)\n",
    "y_pred = model.predict(x_test)\n",
    "cm_dtc = confusion_matrix(y_pred, y_test)\n",
    "acc_dtc = accuracy_score(y_pred, y_test)\n",
    "report_dtc = classification_report(y_pred, y_test)\n",
    "\n",
    "# Grid search optimization\n",
    "dtc_params = {\n",
    "    'max_depth': [1, 5, 10],\n",
    "    'min_samples_split': [2, 5, 10],\n",
    "    'min_samples_leaf': [1, 2, 4]\n",
    "}\n",
    "dtc_grid_search = GridSearchCV(DecisionTreeClassifier(), dtc_params, cv=5).fit(x_train_grid_search, y_train_grid_search)\n",
    "dtc_grid_search.best_params_"
   ]
  },
  {
   "cell_type": "code",
   "execution_count": 21,
   "metadata": {},
   "outputs": [],
   "source": [
    "model_tuned = DecisionTreeClassifier(max_depth = 10, min_samples_leaf = 2, min_samples_split = 5)\n",
    "model_tuned.fit(x_train, y_train)\n",
    "y_pred = model_tuned.predict(x_test)\n",
    "cm_dtc_tuned = confusion_matrix(y_pred, y_test)\n",
    "acc_dtc_tuned = accuracy_score(y_pred, y_test)\n",
    "report_dtc_tuned = classification_report(y_pred, y_test)"
   ]
  },
  {
   "cell_type": "code",
   "execution_count": 22,
   "metadata": {},
   "outputs": [
    {
     "data": {
      "text/plain": [
       "array([[725,   4,  22,  44,  17,   0, 150,   0,   8,   1],\n",
       "       [  3, 947,   2,  29,   6,   3,   6,   0,   2,   0],\n",
       "       [ 28,   2, 650,  17, 168,   2, 140,   0,  17,   0],\n",
       "       [ 38,  24,  17, 784,  52,   3,  42,   0,   7,   0],\n",
       "       [  9,   9, 162,  60, 638,   1,  93,   0,  16,   0],\n",
       "       [  1,   0,   1,   2,   1, 877,   3,  45,  13,  20],\n",
       "       [183,  11, 131,  54, 108,   3, 546,   0,  18,   0],\n",
       "       [  1,   0,   0,   0,   0,  60,   0, 883,   6,  63],\n",
       "       [ 10,   1,  12,  10,  10,  18,  17,   6, 909,   4],\n",
       "       [  2,   2,   3,   0,   0,  33,   3,  66,   4, 912]], dtype=int64)"
      ]
     },
     "execution_count": 22,
     "metadata": {},
     "output_type": "execute_result"
    }
   ],
   "source": [
    "cm_dtc"
   ]
  },
  {
   "cell_type": "code",
   "execution_count": 23,
   "metadata": {},
   "outputs": [
    {
     "data": {
      "text/plain": [
       "array([[773,  10,  13,  33,   3,   2, 140,   0,   4,   1],\n",
       "       [  3, 928,   0,  11,   2,   2,   4,   0,   3,   0],\n",
       "       [ 28,   4, 665,  26, 124,   0, 162,   0,  17,   1],\n",
       "       [ 41,  40,   8, 811,  39,   1,  37,   0,   8,   0],\n",
       "       [ 12,   7, 242,  62, 736,   1, 140,   0,  22,   0],\n",
       "       [  0,   0,   0,   1,   0, 875,   3,  29,   6,  20],\n",
       "       [127,   9,  62,  49,  94,   0, 498,   0,  29,   1],\n",
       "       [  1,   0,   0,   0,   0,  65,   0, 928,  10,  66],\n",
       "       [ 11,   1,   9,   6,   2,  19,  14,   5, 899,   3],\n",
       "       [  4,   1,   1,   1,   0,  35,   2,  38,   2, 908]], dtype=int64)"
      ]
     },
     "execution_count": 23,
     "metadata": {},
     "output_type": "execute_result"
    }
   ],
   "source": [
    "cm_dtc_tuned"
   ]
  },
  {
   "cell_type": "code",
   "execution_count": 24,
   "metadata": {},
   "outputs": [
    {
     "data": {
      "text/plain": [
       "0.7871"
      ]
     },
     "execution_count": 24,
     "metadata": {},
     "output_type": "execute_result"
    }
   ],
   "source": [
    "acc_dtc"
   ]
  },
  {
   "cell_type": "code",
   "execution_count": 25,
   "metadata": {},
   "outputs": [
    {
     "data": {
      "text/plain": [
       "0.8021"
      ]
     },
     "execution_count": 25,
     "metadata": {},
     "output_type": "execute_result"
    }
   ],
   "source": [
    "acc_dtc_tuned"
   ]
  },
  {
   "cell_type": "code",
   "execution_count": 26,
   "metadata": {},
   "outputs": [
    {
     "name": "stdout",
     "output_type": "stream",
     "text": [
      "              precision    recall  f1-score   support\n",
      "\n",
      "           0       0.72      0.75      0.74       971\n",
      "           1       0.95      0.95      0.95       998\n",
      "           2       0.65      0.63      0.64      1024\n",
      "           3       0.78      0.81      0.80       967\n",
      "           4       0.64      0.65      0.64       988\n",
      "           5       0.88      0.91      0.89       963\n",
      "           6       0.55      0.52      0.53      1054\n",
      "           7       0.88      0.87      0.88      1013\n",
      "           8       0.91      0.91      0.91       997\n",
      "           9       0.91      0.89      0.90      1025\n",
      "\n",
      "    accuracy                           0.79     10000\n",
      "   macro avg       0.79      0.79      0.79     10000\n",
      "weighted avg       0.79      0.79      0.79     10000\n",
      "\n"
     ]
    }
   ],
   "source": [
    "print(report_dtc)"
   ]
  },
  {
   "cell_type": "code",
   "execution_count": 27,
   "metadata": {},
   "outputs": [
    {
     "name": "stdout",
     "output_type": "stream",
     "text": [
      "              precision    recall  f1-score   support\n",
      "\n",
      "           0       0.77      0.79      0.78       979\n",
      "           1       0.93      0.97      0.95       953\n",
      "           2       0.67      0.65      0.66      1027\n",
      "           3       0.81      0.82      0.82       985\n",
      "           4       0.74      0.60      0.66      1222\n",
      "           5       0.88      0.94      0.90       934\n",
      "           6       0.50      0.57      0.53       869\n",
      "           7       0.93      0.87      0.90      1070\n",
      "           8       0.90      0.93      0.91       969\n",
      "           9       0.91      0.92      0.91       992\n",
      "\n",
      "    accuracy                           0.80     10000\n",
      "   macro avg       0.80      0.81      0.80     10000\n",
      "weighted avg       0.80      0.80      0.80     10000\n",
      "\n"
     ]
    }
   ],
   "source": [
    "print(report_dtc_tuned)"
   ]
  },
  {
   "cell_type": "markdown",
   "metadata": {},
   "source": [
    "2. Random Forest Classifier"
   ]
  },
  {
   "cell_type": "code",
   "execution_count": 30,
   "metadata": {},
   "outputs": [
    {
     "data": {
      "text/plain": [
       "{'max_depth': 20, 'min_samples_leaf': 1, 'min_samples_split': 2}"
      ]
     },
     "execution_count": 30,
     "metadata": {},
     "output_type": "execute_result"
    }
   ],
   "source": [
    "from sklearn.ensemble import RandomForestClassifier\n",
    "\n",
    "\n",
    "model = RandomForestClassifier()\n",
    "model.fit(x_train, y_train)\n",
    "y_pred = model.predict(x_test)\n",
    "cm_rfc = confusion_matrix(y_pred, y_test)\n",
    "acc_rfc = accuracy_score(y_pred, y_test)\n",
    "report_rfc = classification_report(y_pred, y_test)\n",
    "\n",
    "# Grid search optimization\n",
    "rfc_params = {\n",
    "    'max_depth': [1, 10, 20],\n",
    "    'min_samples_split': [2, 5, 10],\n",
    "    'min_samples_leaf': [1, 2, 4]\n",
    "}\n",
    "rfc_grid_search = GridSearchCV(RandomForestClassifier(), rfc_params, cv=5).fit(x_train_grid_search, y_train_grid_search)\n",
    "rfc_grid_search.best_params_"
   ]
  },
  {
   "cell_type": "code",
   "execution_count": 31,
   "metadata": {},
   "outputs": [],
   "source": [
    "model_tuned = RandomForestClassifier(max_depth = 10, min_samples_leaf = 1, min_samples_split = 2)\n",
    "model_tuned.fit(x_train, y_train)\n",
    "y_pred = model_tuned.predict(x_test)\n",
    "cm_rfc_tuned = confusion_matrix(y_pred, y_test)\n",
    "acc_rfc_tuned = accuracy_score(y_pred, y_test)\n",
    "report_rfc_tuned = classification_report(y_pred, y_test)"
   ]
  },
  {
   "cell_type": "code",
   "execution_count": 32,
   "metadata": {},
   "outputs": [
    {
     "data": {
      "text/plain": [
       "array([[859,   5,  13,  19,   1,   0, 148,   0,   0,   0],\n",
       "       [  0, 960,   0,   3,   1,   0,   0,   0,   2,   0],\n",
       "       [ 11,   4, 790,  14,  91,   0, 118,   0,   5,   0],\n",
       "       [ 36,  23,  11, 910,  36,   1,  30,   0,   2,   0],\n",
       "       [  3,   2, 125,  28, 817,   0,  87,   0,   5,   0],\n",
       "       [  1,   0,   0,   0,   0, 956,   0,  11,   2,   7],\n",
       "       [ 80,   5,  59,  24,  51,   0, 601,   0,   7,   1],\n",
       "       [  0,   0,   0,   0,   0,  31,   0, 951,   3,  39],\n",
       "       [ 10,   1,   2,   2,   3,   2,  16,   0, 973,   2],\n",
       "       [  0,   0,   0,   0,   0,  10,   0,  38,   1, 951]], dtype=int64)"
      ]
     },
     "execution_count": 32,
     "metadata": {},
     "output_type": "execute_result"
    }
   ],
   "source": [
    "cm_rfc"
   ]
  },
  {
   "cell_type": "code",
   "execution_count": 33,
   "metadata": {},
   "outputs": [
    {
     "data": {
      "text/plain": [
       "array([[832,   3,   8,  22,   1,   0, 185,   0,   0,   0],\n",
       "       [  0, 933,   0,   1,   1,   0,   1,   0,   1,   0],\n",
       "       [ 18,  11, 729,  13, 102,   0, 152,   0,  11,   0],\n",
       "       [ 57,  41,  11, 901,  45,   1,  40,   0,   5,   0],\n",
       "       [  5,   4, 201,  35, 799,   0, 114,   0,   5,   0],\n",
       "       [  1,   0,   0,   0,   0, 932,   0,   9,   2,   5],\n",
       "       [ 73,   6,  46,  25,  49,   0, 487,   0,   8,   1],\n",
       "       [  0,   0,   0,   0,   0,  48,   0, 922,   4,  47],\n",
       "       [ 14,   2,   5,   3,   3,   2,  21,   0, 963,   2],\n",
       "       [  0,   0,   0,   0,   0,  17,   0,  69,   1, 945]], dtype=int64)"
      ]
     },
     "execution_count": 33,
     "metadata": {},
     "output_type": "execute_result"
    }
   ],
   "source": [
    "cm_rfc_tuned"
   ]
  },
  {
   "cell_type": "code",
   "execution_count": 34,
   "metadata": {},
   "outputs": [
    {
     "data": {
      "text/plain": [
       "0.8768"
      ]
     },
     "execution_count": 34,
     "metadata": {},
     "output_type": "execute_result"
    }
   ],
   "source": [
    "acc_rfc"
   ]
  },
  {
   "cell_type": "code",
   "execution_count": 35,
   "metadata": {},
   "outputs": [
    {
     "data": {
      "text/plain": [
       "0.8443"
      ]
     },
     "execution_count": 35,
     "metadata": {},
     "output_type": "execute_result"
    }
   ],
   "source": [
    "acc_rfc_tuned"
   ]
  },
  {
   "cell_type": "code",
   "execution_count": 36,
   "metadata": {},
   "outputs": [
    {
     "name": "stdout",
     "output_type": "stream",
     "text": [
      "              precision    recall  f1-score   support\n",
      "\n",
      "           0       0.86      0.82      0.84      1045\n",
      "           1       0.96      0.99      0.98       966\n",
      "           2       0.79      0.76      0.78      1033\n",
      "           3       0.91      0.87      0.89      1049\n",
      "           4       0.82      0.77      0.79      1067\n",
      "           5       0.96      0.98      0.97       977\n",
      "           6       0.60      0.73      0.66       828\n",
      "           7       0.95      0.93      0.94      1024\n",
      "           8       0.97      0.96      0.97      1011\n",
      "           9       0.95      0.95      0.95      1000\n",
      "\n",
      "    accuracy                           0.88     10000\n",
      "   macro avg       0.88      0.88      0.88     10000\n",
      "weighted avg       0.88      0.88      0.88     10000\n",
      "\n"
     ]
    }
   ],
   "source": [
    "print(report_rfc)"
   ]
  },
  {
   "cell_type": "code",
   "execution_count": 37,
   "metadata": {},
   "outputs": [
    {
     "name": "stdout",
     "output_type": "stream",
     "text": [
      "              precision    recall  f1-score   support\n",
      "\n",
      "           0       0.83      0.79      0.81      1051\n",
      "           1       0.93      1.00      0.96       937\n",
      "           2       0.73      0.70      0.72      1036\n",
      "           3       0.90      0.82      0.86      1101\n",
      "           4       0.80      0.69      0.74      1163\n",
      "           5       0.93      0.98      0.96       949\n",
      "           6       0.49      0.70      0.57       695\n",
      "           7       0.92      0.90      0.91      1021\n",
      "           8       0.96      0.95      0.96      1015\n",
      "           9       0.94      0.92      0.93      1032\n",
      "\n",
      "    accuracy                           0.84     10000\n",
      "   macro avg       0.84      0.84      0.84     10000\n",
      "weighted avg       0.85      0.84      0.85     10000\n",
      "\n"
     ]
    }
   ],
   "source": [
    "print(report_rfc_tuned)"
   ]
  },
  {
   "cell_type": "markdown",
   "metadata": {},
   "source": [
    "3. Naive Bayes"
   ]
  },
  {
   "cell_type": "code",
   "execution_count": 38,
   "metadata": {},
   "outputs": [
    {
     "data": {
      "text/plain": [
       "{'alpha': 0.5}"
      ]
     },
     "execution_count": 38,
     "metadata": {},
     "output_type": "execute_result"
    }
   ],
   "source": [
    "from sklearn.naive_bayes import MultinomialNB\n",
    "\n",
    "\n",
    "model = MultinomialNB()\n",
    "model.fit(x_train, y_train)\n",
    "y_pred = model.predict(x_test)\n",
    "cm_nb = confusion_matrix(y_pred, y_test)\n",
    "acc_nb = accuracy_score(y_pred, y_test)\n",
    "report_nb = classification_report(y_pred, y_test)\n",
    "\n",
    "# Grid search optimization\n",
    "nb_params = {'alpha': [0.1, 0.5, 1.0, 1.5, 2.0]}\n",
    "nb_grid_search = GridSearchCV(MultinomialNB(), nb_params, cv=5).fit(x_train_grid_search, y_train_grid_search)\n",
    "nb_grid_search.best_params_"
   ]
  },
  {
   "cell_type": "code",
   "execution_count": 39,
   "metadata": {},
   "outputs": [],
   "source": [
    "model_tuned = MultinomialNB(alpha=0.5)\n",
    "model_tuned.fit(x_train, y_train)\n",
    "y_pred = model_tuned.predict(x_test)\n",
    "cm_nb_tuned = confusion_matrix(y_pred, y_test)\n",
    "acc_nb_tuned = accuracy_score(y_pred, y_test)\n",
    "report_nb_tuned = classification_report(y_pred, y_test)"
   ]
  },
  {
   "cell_type": "code",
   "execution_count": 40,
   "metadata": {},
   "outputs": [
    {
     "data": {
      "text/plain": [
       "array([[776,  17,   8,  26,   0,   1, 230,   0,   7,   0],\n",
       "       [  1, 872,   0,   9,   1,   0,   1,   0,   0,   0],\n",
       "       [  5,  12, 569,   1, 225,   0, 138,   0,   3,   1],\n",
       "       [112,  84,  13, 875, 112,   0,  85,   0,  49,   1],\n",
       "       [  6,   8, 300,  25, 605,   0, 335,   0,  83,   0],\n",
       "       [  0,   0,   0,   0,   0, 137,   0,  25,   3,  44],\n",
       "       [ 80,   5,  85,  61,  48,   8, 161,   0,  44,  12],\n",
       "       [  0,   0,   0,   0,   0, 504,   0, 920,  12, 103],\n",
       "       [ 20,   2,  25,   3,   9,   6,  50,   0, 799,   1],\n",
       "       [  0,   0,   0,   0,   0, 344,   0,  55,   0, 838]], dtype=int64)"
      ]
     },
     "execution_count": 40,
     "metadata": {},
     "output_type": "execute_result"
    }
   ],
   "source": [
    "cm_nb"
   ]
  },
  {
   "cell_type": "code",
   "execution_count": 41,
   "metadata": {},
   "outputs": [
    {
     "data": {
      "text/plain": [
       "array([[776,  17,   8,  27,   0,   1, 230,   0,   7,   0],\n",
       "       [  1, 872,   0,   9,   1,   0,   1,   0,   0,   0],\n",
       "       [  5,  12, 569,   1, 227,   0, 139,   0,   3,   1],\n",
       "       [112,  84,  13, 874, 112,   0,  85,   0,  49,   1],\n",
       "       [  6,   8, 300,  25, 602,   0, 332,   0,  83,   0],\n",
       "       [  0,   0,   0,   0,   0, 138,   0,  25,   3,  44],\n",
       "       [ 80,   5,  85,  61,  49,   8, 163,   0,  43,  12],\n",
       "       [  0,   0,   0,   0,   0, 503,   0, 920,  10, 103],\n",
       "       [ 20,   2,  25,   3,   9,   7,  50,   0, 802,   1],\n",
       "       [  0,   0,   0,   0,   0, 343,   0,  55,   0, 838]], dtype=int64)"
      ]
     },
     "execution_count": 41,
     "metadata": {},
     "output_type": "execute_result"
    }
   ],
   "source": [
    "cm_nb_tuned"
   ]
  },
  {
   "cell_type": "code",
   "execution_count": 42,
   "metadata": {},
   "outputs": [
    {
     "data": {
      "text/plain": [
       "0.6552"
      ]
     },
     "execution_count": 42,
     "metadata": {},
     "output_type": "execute_result"
    }
   ],
   "source": [
    "acc_nb"
   ]
  },
  {
   "cell_type": "code",
   "execution_count": 43,
   "metadata": {},
   "outputs": [
    {
     "data": {
      "text/plain": [
       "0.6554"
      ]
     },
     "execution_count": 43,
     "metadata": {},
     "output_type": "execute_result"
    }
   ],
   "source": [
    "acc_nb_tuned"
   ]
  },
  {
   "cell_type": "code",
   "execution_count": 44,
   "metadata": {},
   "outputs": [
    {
     "name": "stdout",
     "output_type": "stream",
     "text": [
      "              precision    recall  f1-score   support\n",
      "\n",
      "           0       0.78      0.73      0.75      1065\n",
      "           1       0.87      0.99      0.93       884\n",
      "           2       0.57      0.60      0.58       954\n",
      "           3       0.88      0.66      0.75      1331\n",
      "           4       0.60      0.44      0.51      1362\n",
      "           5       0.14      0.66      0.23       209\n",
      "           6       0.16      0.32      0.21       504\n",
      "           7       0.92      0.60      0.72      1539\n",
      "           8       0.80      0.87      0.83       915\n",
      "           9       0.84      0.68      0.75      1237\n",
      "\n",
      "    accuracy                           0.66     10000\n",
      "   macro avg       0.66      0.65      0.63     10000\n",
      "weighted avg       0.74      0.66      0.68     10000\n",
      "\n"
     ]
    }
   ],
   "source": [
    "print(report_nb)"
   ]
  },
  {
   "cell_type": "code",
   "execution_count": 45,
   "metadata": {},
   "outputs": [
    {
     "name": "stdout",
     "output_type": "stream",
     "text": [
      "              precision    recall  f1-score   support\n",
      "\n",
      "           0       0.78      0.73      0.75      1066\n",
      "           1       0.87      0.99      0.93       884\n",
      "           2       0.57      0.59      0.58       957\n",
      "           3       0.87      0.66      0.75      1330\n",
      "           4       0.60      0.44      0.51      1356\n",
      "           5       0.14      0.66      0.23       210\n",
      "           6       0.16      0.32      0.22       506\n",
      "           7       0.92      0.60      0.73      1536\n",
      "           8       0.80      0.87      0.84       919\n",
      "           9       0.84      0.68      0.75      1236\n",
      "\n",
      "    accuracy                           0.66     10000\n",
      "   macro avg       0.66      0.65      0.63     10000\n",
      "weighted avg       0.74      0.66      0.68     10000\n",
      "\n"
     ]
    }
   ],
   "source": [
    "print(report_nb_tuned)"
   ]
  },
  {
   "cell_type": "markdown",
   "metadata": {},
   "source": [
    "4. Support Vector Machine"
   ]
  },
  {
   "cell_type": "code",
   "execution_count": 46,
   "metadata": {},
   "outputs": [
    {
     "data": {
      "text/plain": [
       "{'C': 0.1, 'kernel': 'linear'}"
      ]
     },
     "execution_count": 46,
     "metadata": {},
     "output_type": "execute_result"
    }
   ],
   "source": [
    "from sklearn.svm import SVC\n",
    "\n",
    "\n",
    "model = SVC()\n",
    "model.fit(x_train, y_train)\n",
    "y_pred = model.predict(x_test)\n",
    "cm_svm = confusion_matrix(y_pred, y_test)\n",
    "acc_svm = accuracy_score(y_pred, y_test)\n",
    "report_svm = classification_report(y_pred, y_test)\n",
    "\n",
    "# Grid search optimization\n",
    "svm_params = {\n",
    "    'C': [0.1, 1, 2],\n",
    "    'kernel': ['linear', 'poly', 'sigmoid']\n",
    "}\n",
    "svm_grid_search = GridSearchCV(SVC(), svm_params, cv=5).fit(x_train_grid_search, y_train_grid_search)\n",
    "svm_grid_search.best_params_"
   ]
  },
  {
   "cell_type": "code",
   "execution_count": 47,
   "metadata": {},
   "outputs": [],
   "source": [
    "model_tuned = SVC(C=0.1, kernel='linear')\n",
    "model_tuned.fit(x_train, y_train)\n",
    "y_pred = model_tuned.predict(x_test)\n",
    "cm_svm_tuned = confusion_matrix(y_pred, y_test)\n",
    "acc_svm_tuned = accuracy_score(y_pred, y_test)\n",
    "report_svm_tuned = classification_report(y_pred, y_test)"
   ]
  },
  {
   "cell_type": "code",
   "execution_count": 48,
   "metadata": {},
   "outputs": [
    {
     "data": {
      "text/plain": [
       "array([[857,   4,  11,  27,   1,   0, 135,   0,   3,   0],\n",
       "       [  0, 962,   2,   3,   1,   0,   1,   0,   1,   0],\n",
       "       [ 16,   2, 816,  11,  87,   0, 104,   0,   1,   0],\n",
       "       [ 28,  25,  16, 890,  32,   1,  27,   0,   5,   0],\n",
       "       [  3,   3,  88,  33, 815,   0,  68,   0,   2,   0],\n",
       "       [  2,   0,   0,   0,   0, 951,   0,  21,   2,  11],\n",
       "       [ 85,   4,  65,  32,  61,   0, 654,   0,   4,   1],\n",
       "       [  0,   0,   0,   0,   0,  33,   0, 955,   5,  37],\n",
       "       [  9,   0,   2,   4,   3,   1,  11,   0, 977,   0],\n",
       "       [  0,   0,   0,   0,   0,  14,   0,  24,   0, 951]], dtype=int64)"
      ]
     },
     "execution_count": 48,
     "metadata": {},
     "output_type": "execute_result"
    }
   ],
   "source": [
    "cm_svm"
   ]
  },
  {
   "cell_type": "code",
   "execution_count": 49,
   "metadata": {},
   "outputs": [
    {
     "data": {
      "text/plain": [
       "array([[828,   6,  20,  37,   0,   0, 161,   0,   6,   0],\n",
       "       [  3, 959,   4,  10,   2,   0,   1,   0,   1,   0],\n",
       "       [ 10,   3, 770,  16, 110,   0, 116,   0,   6,   0],\n",
       "       [ 45,  25,  10, 873,  31,   1,  37,   0,   9,   0],\n",
       "       [  2,   4, 108,  26, 779,   0,  92,   0,   2,   0],\n",
       "       [  1,   0,   0,   0,   0, 937,   0,  29,   3,  16],\n",
       "       [101,   2,  83,  35,  74,   0, 571,   0,  17,   0],\n",
       "       [  0,   0,   0,   0,   0,  45,   0, 945,   4,  36],\n",
       "       [ 10,   1,   5,   3,   4,   2,  22,   0, 952,   1],\n",
       "       [  0,   0,   0,   0,   0,  15,   0,  26,   0, 947]], dtype=int64)"
      ]
     },
     "execution_count": 49,
     "metadata": {},
     "output_type": "execute_result"
    }
   ],
   "source": [
    "cm_svm_tuned"
   ]
  },
  {
   "cell_type": "code",
   "execution_count": 50,
   "metadata": {},
   "outputs": [
    {
     "data": {
      "text/plain": [
       "0.8828"
      ]
     },
     "execution_count": 50,
     "metadata": {},
     "output_type": "execute_result"
    }
   ],
   "source": [
    "acc_svm"
   ]
  },
  {
   "cell_type": "code",
   "execution_count": 51,
   "metadata": {},
   "outputs": [
    {
     "data": {
      "text/plain": [
       "0.8561"
      ]
     },
     "execution_count": 51,
     "metadata": {},
     "output_type": "execute_result"
    }
   ],
   "source": [
    "acc_svm_tuned"
   ]
  },
  {
   "cell_type": "code",
   "execution_count": 52,
   "metadata": {},
   "outputs": [
    {
     "name": "stdout",
     "output_type": "stream",
     "text": [
      "              precision    recall  f1-score   support\n",
      "\n",
      "           0       0.86      0.83      0.84      1038\n",
      "           1       0.96      0.99      0.98       970\n",
      "           2       0.82      0.79      0.80      1037\n",
      "           3       0.89      0.87      0.88      1024\n",
      "           4       0.81      0.81      0.81      1012\n",
      "           5       0.95      0.96      0.96       987\n",
      "           6       0.65      0.72      0.69       906\n",
      "           7       0.95      0.93      0.94      1030\n",
      "           8       0.98      0.97      0.97      1007\n",
      "           9       0.95      0.96      0.96       989\n",
      "\n",
      "    accuracy                           0.88     10000\n",
      "   macro avg       0.88      0.88      0.88     10000\n",
      "weighted avg       0.88      0.88      0.88     10000\n",
      "\n"
     ]
    }
   ],
   "source": [
    "print(report_svm)"
   ]
  },
  {
   "cell_type": "code",
   "execution_count": 53,
   "metadata": {},
   "outputs": [
    {
     "name": "stdout",
     "output_type": "stream",
     "text": [
      "              precision    recall  f1-score   support\n",
      "\n",
      "           0       0.83      0.78      0.80      1058\n",
      "           1       0.96      0.98      0.97       980\n",
      "           2       0.77      0.75      0.76      1031\n",
      "           3       0.87      0.85      0.86      1031\n",
      "           4       0.78      0.77      0.77      1013\n",
      "           5       0.94      0.95      0.94       986\n",
      "           6       0.57      0.65      0.61       883\n",
      "           7       0.94      0.92      0.93      1030\n",
      "           8       0.95      0.95      0.95      1000\n",
      "           9       0.95      0.96      0.95       988\n",
      "\n",
      "    accuracy                           0.86     10000\n",
      "   macro avg       0.86      0.85      0.86     10000\n",
      "weighted avg       0.86      0.86      0.86     10000\n",
      "\n"
     ]
    }
   ],
   "source": [
    "print(report_svm_tuned)"
   ]
  },
  {
   "cell_type": "markdown",
   "metadata": {},
   "source": [
    "5. Convolutional Neural Network"
   ]
  },
  {
   "cell_type": "code",
   "execution_count": 54,
   "metadata": {},
   "outputs": [
    {
     "name": "stdout",
     "output_type": "stream",
     "text": [
      "Epoch 1/10\n",
      "\u001b[1m1875/1875\u001b[0m \u001b[32m━━━━━━━━━━━━━━━━━━━━\u001b[0m\u001b[37m\u001b[0m \u001b[1m33s\u001b[0m 16ms/step - accuracy: 0.7713 - loss: 0.6247 - val_accuracy: 0.8714 - val_loss: 0.3433\n",
      "Epoch 2/10\n",
      "\u001b[1m1875/1875\u001b[0m \u001b[32m━━━━━━━━━━━━━━━━━━━━\u001b[0m\u001b[37m\u001b[0m \u001b[1m31s\u001b[0m 17ms/step - accuracy: 0.8983 - loss: 0.2794 - val_accuracy: 0.9022 - val_loss: 0.2703\n",
      "Epoch 3/10\n",
      "\u001b[1m1875/1875\u001b[0m \u001b[32m━━━━━━━━━━━━━━━━━━━━\u001b[0m\u001b[37m\u001b[0m \u001b[1m38s\u001b[0m 20ms/step - accuracy: 0.9174 - loss: 0.2293 - val_accuracy: 0.9120 - val_loss: 0.2416\n",
      "Epoch 4/10\n",
      "\u001b[1m1875/1875\u001b[0m \u001b[32m━━━━━━━━━━━━━━━━━━━━\u001b[0m\u001b[37m\u001b[0m \u001b[1m39s\u001b[0m 21ms/step - accuracy: 0.9289 - loss: 0.1921 - val_accuracy: 0.9137 - val_loss: 0.2333\n",
      "Epoch 5/10\n",
      "\u001b[1m1875/1875\u001b[0m \u001b[32m━━━━━━━━━━━━━━━━━━━━\u001b[0m\u001b[37m\u001b[0m \u001b[1m40s\u001b[0m 21ms/step - accuracy: 0.9387 - loss: 0.1651 - val_accuracy: 0.9103 - val_loss: 0.2595\n",
      "Epoch 6/10\n",
      "\u001b[1m1875/1875\u001b[0m \u001b[32m━━━━━━━━━━━━━━━━━━━━\u001b[0m\u001b[37m\u001b[0m \u001b[1m42s\u001b[0m 23ms/step - accuracy: 0.9447 - loss: 0.1485 - val_accuracy: 0.9197 - val_loss: 0.2429\n",
      "Epoch 7/10\n",
      "\u001b[1m1875/1875\u001b[0m \u001b[32m━━━━━━━━━━━━━━━━━━━━\u001b[0m\u001b[37m\u001b[0m \u001b[1m43s\u001b[0m 23ms/step - accuracy: 0.9550 - loss: 0.1209 - val_accuracy: 0.9204 - val_loss: 0.2255\n",
      "Epoch 8/10\n",
      "\u001b[1m1875/1875\u001b[0m \u001b[32m━━━━━━━━━━━━━━━━━━━━\u001b[0m\u001b[37m\u001b[0m \u001b[1m44s\u001b[0m 23ms/step - accuracy: 0.9601 - loss: 0.1067 - val_accuracy: 0.9166 - val_loss: 0.2495\n",
      "Epoch 9/10\n",
      "\u001b[1m1875/1875\u001b[0m \u001b[32m━━━━━━━━━━━━━━━━━━━━\u001b[0m\u001b[37m\u001b[0m \u001b[1m41s\u001b[0m 22ms/step - accuracy: 0.9636 - loss: 0.0956 - val_accuracy: 0.9092 - val_loss: 0.3076\n",
      "Epoch 10/10\n",
      "\u001b[1m1875/1875\u001b[0m \u001b[32m━━━━━━━━━━━━━━━━━━━━\u001b[0m\u001b[37m\u001b[0m \u001b[1m42s\u001b[0m 22ms/step - accuracy: 0.9693 - loss: 0.0797 - val_accuracy: 0.9140 - val_loss: 0.2939\n",
      "\u001b[1m313/313\u001b[0m \u001b[32m━━━━━━━━━━━━━━━━━━━━\u001b[0m\u001b[37m\u001b[0m \u001b[1m3s\u001b[0m 10ms/step\n"
     ]
    }
   ],
   "source": [
    "from keras.models import Sequential\n",
    "from keras.layers import Conv2D, MaxPooling2D, Flatten, Dense\n",
    "\n",
    "model = Sequential([\n",
    " Conv2D(32, (3, 3), activation='relu', input_shape=(28, 28, 1)),\n",
    " Conv2D(64, (3, 3), activation='relu'),\n",
    " MaxPooling2D((2, 2)),\n",
    " Conv2D(64, (3, 3), activation='relu'),\n",
    " MaxPooling2D((2, 2)),\n",
    " Flatten(),\n",
    " Dense(64, activation='relu'),\n",
    " Dense(10, activation='softmax')\n",
    "])\n",
    "\n",
    "model.compile(optimizer='adam', loss='sparse_categorical_crossentropy', metrics=['accuracy'])\n",
    "\n",
    "history = model.fit(x_train_cnn, y_train, epochs=10, validation_data=(x_test_cnn, y_test))\n",
    "y_pred = np.argmax(model.predict(x_test_cnn), axis=-1)\n",
    "cm_cnn = confusion_matrix(y_pred, y_test)\n",
    "acc_cnn= accuracy_score(y_pred, y_test)\n",
    "report_cnn = classification_report(y_pred, y_test)"
   ]
  },
  {
   "cell_type": "code",
   "execution_count": 55,
   "metadata": {},
   "outputs": [
    {
     "data": {
      "text/plain": [
       "array([[825,   2,  13,  15,   0,   0,  82,   0,   3,   0],\n",
       "       [  0, 981,   0,   1,   1,   0,   1,   0,   0,   0],\n",
       "       [ 25,   3, 872,   8,  26,   0,  41,   0,   4,   0],\n",
       "       [ 19,   7,   9, 900,  15,   0,  24,   0,   4,   0],\n",
       "       [  6,   3,  49,  33, 886,   0,  59,   0,   6,   0],\n",
       "       [  2,   0,   0,   0,   0, 970,   0,   1,   2,   5],\n",
       "       [120,   4,  57,  43,  72,   0, 790,   0,   4,   0],\n",
       "       [  0,   0,   0,   0,   0,  25,   0, 987,   2,  41],\n",
       "       [  3,   0,   0,   0,   0,   0,   3,   0, 975,   0],\n",
       "       [  0,   0,   0,   0,   0,   5,   0,  12,   0, 954]], dtype=int64)"
      ]
     },
     "execution_count": 55,
     "metadata": {},
     "output_type": "execute_result"
    }
   ],
   "source": [
    "cm_cnn"
   ]
  },
  {
   "cell_type": "code",
   "execution_count": 56,
   "metadata": {},
   "outputs": [
    {
     "data": {
      "text/plain": [
       "0.914"
      ]
     },
     "execution_count": 56,
     "metadata": {},
     "output_type": "execute_result"
    }
   ],
   "source": [
    "acc_cnn"
   ]
  },
  {
   "cell_type": "code",
   "execution_count": 57,
   "metadata": {},
   "outputs": [
    {
     "name": "stdout",
     "output_type": "stream",
     "text": [
      "              precision    recall  f1-score   support\n",
      "\n",
      "           0       0.82      0.88      0.85       940\n",
      "           1       0.98      1.00      0.99       984\n",
      "           2       0.87      0.89      0.88       979\n",
      "           3       0.90      0.92      0.91       978\n",
      "           4       0.89      0.85      0.87      1042\n",
      "           5       0.97      0.99      0.98       980\n",
      "           6       0.79      0.72      0.76      1090\n",
      "           7       0.99      0.94      0.96      1055\n",
      "           8       0.97      0.99      0.98       981\n",
      "           9       0.95      0.98      0.97       971\n",
      "\n",
      "    accuracy                           0.91     10000\n",
      "   macro avg       0.91      0.92      0.91     10000\n",
      "weighted avg       0.91      0.91      0.91     10000\n",
      "\n"
     ]
    }
   ],
   "source": [
    "print(report_cnn)"
   ]
  },
  {
   "cell_type": "code",
   "execution_count": 105,
   "metadata": {},
   "outputs": [
    {
     "data": {
      "image/png": "[encoded data removed]",
      "text/plain": [
       "<Figure size 640x480 with 1 Axes>"
      ]
     },
     "metadata": {},
     "output_type": "display_data"
    }
   ],
   "source": [
    "labels = ['Decision Tree', 'Decision Tree Tuned', 'Random Forest', 'Random Forest Tuned', 'Naive Bayes', 'Naive Bayes Tuned', 'SVM', 'SVM Tuned', 'CNN']\n",
    "accuracies = list((acc_dtc, acc_dtc_tuned, acc_rfc, acc_rfc_tuned, acc_nb, acc_nb_tuned, acc_svm, acc_svm_tuned, acc_cnn))\n",
    "\n",
    "plt.bar(labels, accuracies)\n",
    "plt.xticks(rotation=45, ha='right')\n",
    "plt.ylabel('Accuracy')\n",
    "plt.title('Model Accuracies')\n",
    "plt.tight_layout()\n",
    "plt.grid(True, axis='y')\n",
    "plt.gca().set_axisbelow(True)\n",
    "plt.show()"
   ]
  }
 ],
 "metadata": {
  "kernelspec": {
   "display_name": "Python 3",
   "language": "python",
   "name": "python3"
  },
  "language_info": {
   "codemirror_mode": {
    "name": "ipython",
    "version": 3
   },
   "file_extension": ".py",
   "mimetype": "text/x-python",
   "name": "python",
   "nbconvert_exporter": "python",
   "pygments_lexer": "ipython3",
   "version": "3.10.7"
  }
 },
 "nbformat": 4,
 "nbformat_minor": 2
}
